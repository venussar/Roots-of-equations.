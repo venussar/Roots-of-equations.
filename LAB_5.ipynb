{
  "nbformat": 4,
  "nbformat_minor": 0,
  "metadata": {
    "colab": {
      "provenance": [],
      "include_colab_link": true
    },
    "kernelspec": {
      "name": "python3",
      "display_name": "Python 3"
    },
    "language_info": {
      "name": "python"
    }
  },
  "cells": [
    {
      "cell_type": "markdown",
      "metadata": {
        "id": "view-in-github",
        "colab_type": "text"
      },
      "source": [
        "<a href=\"https://colab.research.google.com/github/venussar/Roots-of-equations./blob/main/LAB_5.ipynb\" target=\"_parent\"><img src=\"https://colab.research.google.com/assets/colab-badge.svg\" alt=\"Open In Colab\"/></a>"
      ]
    },
    {
      "cell_type": "markdown",
      "source": [
        "# Lab 5.1: Newton Rapson method\n",
        "\n",
        "- - -"
      ],
      "metadata": {
        "id": "X3YIphnmT_yv"
      }
    },
    {
      "cell_type": "markdown",
      "source": [
        "<font color='red'>\n",
        "**ACTIVITY**\n",
        "    \n",
        "In an Jupyter-notebook, copy the NewtonRaphson routine, the Bisection routine, the Fixed-point routine and find the root of the next function using all the methods.\n",
        "    \n",
        "$f(x) = x - \\cos(x)$\n",
        "    \n",
        "Plot in the same figure the convergence of each method as a function of the number of iterations.\n",
        "</font>"
      ],
      "metadata": {
        "id": "sLfe_SfpVm78"
      }
    },
    {
      "cell_type": "code",
      "source": [
        "import numpy as np\n",
        "import matplotlib.pyplot as plt"
      ],
      "metadata": {
        "id": "lWiOntprATQD"
      },
      "execution_count": null,
      "outputs": []
    },
    {
      "cell_type": "code",
      "source": [
        "def f(x):\n",
        "  funcion = x - np.cos(x)\n",
        "  return funcion"
      ],
      "metadata": {
        "id": "5nPPr0eM_qkB"
      },
      "execution_count": null,
      "outputs": []
    },
    {
      "cell_type": "code",
      "source": [
        "def derivada(x):\n",
        "  derivada = 1 + np.sin(x)\n",
        "  return derivada"
      ],
      "metadata": {
        "id": "ZgGjT1xqAXXN"
      },
      "execution_count": null,
      "outputs": []
    },
    {
      "cell_type": "code",
      "source": [
        "x = np.linspace(0, 2, 100)\n",
        "y=f(x)\n",
        "plt.plot(x, y)\n",
        "plt.xlabel(\"x\")\n",
        "plt.ylabel(\"f(x)\")\n",
        "plt.axhline(0, color='gray', linestyle='--')  # Línea y = 0"
      ],
      "metadata": {
        "colab": {
          "base_uri": "https://localhost:8080/",
          "height": 466
        },
        "id": "nItw2EHKA0KL",
        "outputId": "c74b0ed1-c4fa-4582-e4b7-f11d70f62763"
      },
      "execution_count": null,
      "outputs": [
        {
          "output_type": "execute_result",
          "data": {
            "text/plain": [
              "<matplotlib.lines.Line2D at 0x7ecc6f4e2f90>"
            ]
          },
          "metadata": {},
          "execution_count": 10
        },
        {
          "output_type": "display_data",
          "data": {
            "text/plain": [
              "<Figure size 640x480 with 1 Axes>"
            ],
            "image/png": "[encoded data removed]"
          },
          "metadata": {}
        }
      ]
    },
    {
      "cell_type": "markdown",
      "source": [
        "Newton Method"
      ],
      "metadata": {
        "id": "T1JGe1YLEAeN"
      }
    },
    {
      "cell_type": "code",
      "source": [
        "#Defining Newton Method\n",
        "def NewtonRaphson( f, fp, pini, Nmax):\n",
        "    #Initial condition\n",
        "    p = [pini,]\n",
        "    #Iterations.\n",
        "    for n in range(Nmax):\n",
        "        p.append( p[n] - f(p[n])/fp(p[n]) )\n",
        "\n",
        "    p = np.array( p )\n",
        "\n",
        "    return p[-1]\n",
        "\n",
        "    #print(\"Result:\", p[-1])"
      ],
      "metadata": {
        "id": "CADYwV6iDMFL"
      },
      "execution_count": null,
      "outputs": []
    },
    {
      "cell_type": "code",
      "source": [
        "pini=0.5\n",
        "Nmax=4\n",
        "NewtonRaphson( f, derivada, pini, Nmax)"
      ],
      "metadata": {
        "colab": {
          "base_uri": "https://localhost:8080/"
        },
        "id": "KHwaDuhLAjGt",
        "outputId": "d4f43333-dc7f-43cd-8925-11d037cfd584"
      },
      "execution_count": null,
      "outputs": [
        {
          "output_type": "execute_result",
          "data": {
            "text/plain": [
              "np.float64(0.7390851332151607)"
            ]
          },
          "metadata": {},
          "execution_count": 12
        }
      ]
    },
    {
      "cell_type": "markdown",
      "source": [
        "PUNTO FIJO"
      ],
      "metadata": {
        "id": "oqadvwkrFrlD"
      }
    },
    {
      "cell_type": "code",
      "source": [
        "Nmax=7"
      ],
      "metadata": {
        "id": "ppDUIkbMF3an"
      },
      "execution_count": null,
      "outputs": []
    },
    {
      "cell_type": "code",
      "source": [
        "#Fixed Point strategy\n",
        "def FixedPoint( f, pini, Nmax):\n",
        "    g = lambda x: x-f(x)\n",
        "    #Initial condition\n",
        "    pi = [pini,]\n",
        "    #Iterations\n",
        "    for n in range(Nmax+3):\n",
        "        pi.append( g(pi[n]) )\n",
        "\n",
        "    pi = np.array( pi )\n",
        "    #print(pi)\n",
        "\n",
        "    return pi[-1]"
      ],
      "metadata": {
        "id": "O4koKrcyD--H"
      },
      "execution_count": null,
      "outputs": []
    },
    {
      "cell_type": "code",
      "source": [
        "FixedPoint( f, pini, Nmax)"
      ],
      "metadata": {
        "colab": {
          "base_uri": "https://localhost:8080/"
        },
        "id": "eTewhcziFvVu",
        "outputId": "9c9f6489-8dfc-499d-99e6-b29635af1328"
      },
      "execution_count": null,
      "outputs": [
        {
          "output_type": "execute_result",
          "data": {
            "text/plain": [
              "np.float64(0.7350063090148431)"
            ]
          },
          "metadata": {},
          "execution_count": 18
        }
      ]
    },
    {
      "cell_type": "markdown",
      "source": [
        "Con Nmax=4 no es suficiente para una buena aproximacion, Con Nmax=7 se aproxima un poco mas pero apartir de ahi empieza ser muy inestable, sube y baja el valor"
      ],
      "metadata": {
        "id": "ESD2DizQGjQV"
      }
    },
    {
      "cell_type": "markdown",
      "source": [
        "BISECCION"
      ],
      "metadata": {
        "id": "wA2LXT4DHOau"
      }
    },
    {
      "cell_type": "code",
      "source": [
        "#Defining Bisection function\n",
        "def Bisection( f, a, b, Nmax, printer=False ):\n",
        "    #verifying the STEP1, a and b with different signs\n",
        "    if f(a)*f(b)>0:\n",
        "        print(\"Error, f(a) and f(b) should have opposite signs\")\n",
        "        return False\n",
        "    #Assigning the current extreme values, STEP2\n",
        "    ai = a\n",
        "    bi = b\n",
        "    #Iterations\n",
        "    n = 1\n",
        "    while n<=Nmax:\n",
        "        #Bisection, STEP3\n",
        "        pi = (ai+bi)/2.0\n",
        "        #Evaluating function in pi, STEP4 and STEP5\n",
        "        if printer:\n",
        "            print(\"Value for %d iterations:\"%n,pi)\n",
        "        #Condition A\n",
        "        if f(pi)*f(ai)>0:\n",
        "            ai = pi\n",
        "        #Condition B\n",
        "        elif f(pi)*f(ai)<0:\n",
        "            bi = pi\n",
        "        #Condition C: repeat the cycle\n",
        "        n+=1\n",
        "    #Final result\n",
        "    return pi"
      ],
      "metadata": {
        "id": "4MnQ8p3lHTU2"
      },
      "execution_count": null,
      "outputs": []
    },
    {
      "cell_type": "code",
      "source": [
        "Bisection( f, 0.5, 1, Nmax)"
      ],
      "metadata": {
        "colab": {
          "base_uri": "https://localhost:8080/"
        },
        "id": "np_bOlnTHcAe",
        "outputId": "d38c7c59-289d-49c8-ec65-6f9bbada93bf"
      },
      "execution_count": null,
      "outputs": [
        {
          "output_type": "execute_result",
          "data": {
            "text/plain": [
              "0.740234375"
            ]
          },
          "metadata": {},
          "execution_count": 83
        }
      ]
    },
    {
      "cell_type": "markdown",
      "source": [
        "Podemos ver que aunque usemos un intervalo cerca de la raiz aun asi no es capaz de aproximarla del todo.."
      ],
      "metadata": {
        "id": "0wNV6QotHqGn"
      }
    },
    {
      "cell_type": "markdown",
      "source": [
        "- - -"
      ],
      "metadata": {
        "id": "kwy3-8jAVWlS"
      }
    },
    {
      "cell_type": "markdown",
      "source": [
        "# Lab 5.2: Secant method\n",
        "\n",
        "- - -"
      ],
      "metadata": {
        "id": "H3t_uFUHVabb"
      }
    },
    {
      "cell_type": "markdown",
      "source": [
        "<font color='red'>\n",
        "**ACTIVITY**\n",
        "    \n",
        "In an Jupyter-notebook and based on the routine NewtonRaphson, write your own routine SecantMethod that performs the previous steps for the Secant Method. Test your code with the function $f(x)$:\n",
        "    \n",
        "$f(x) = x - \\cos(x)$\n",
        "</font>"
      ],
      "metadata": {
        "id": "71KDzdCrVh_N"
      }
    },
    {
      "cell_type": "code",
      "source": [
        "def metodo_secante(f, x0, x1, tol=1e-6, max_iter=5):\n",
        "    for i in range(max_iter):\n",
        "        f0, f1 = f(x0), f(x1)\n",
        "\n",
        "        if f1 - f0 == 0:\n",
        "            raise ValueError(\"Denominador igual a cero\")\n",
        "\n",
        "        x2 = x1 - f1 * (x1 - x0) / (f1 - f0)\n",
        "        error = abs(x2 - x1)\n",
        "\n",
        "        if error < tol:\n",
        "            return x2\n",
        "\n",
        "        x0, x1 = x1, x2\n"
      ],
      "metadata": {
        "id": "IU5E_AreU4zX"
      },
      "execution_count": null,
      "outputs": []
    },
    {
      "cell_type": "code",
      "source": [
        "metodo_secante(f,0.5,1)"
      ],
      "metadata": {
        "colab": {
          "base_uri": "https://localhost:8080/"
        },
        "id": "f-ifWjMhV1bv",
        "outputId": "46b95662-649e-452c-e600-caca0e13f196"
      },
      "execution_count": null,
      "outputs": [
        {
          "output_type": "execute_result",
          "data": {
            "text/plain": [
              "np.float64(0.7390851332151605)"
            ]
          },
          "metadata": {},
          "execution_count": 42
        }
      ]
    },
    {
      "cell_type": "markdown",
      "source": [
        "CON N=5 ALCANZA LA MAXIMA APROXIMACIO"
      ],
      "metadata": {
        "id": "Ejc9XIZiWq5f"
      }
    }
  ]
}